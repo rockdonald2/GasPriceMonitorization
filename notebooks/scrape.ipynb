{
 "cells": [
  {
   "cell_type": "code",
   "execution_count": 3,
   "metadata": {},
   "outputs": [],
   "source": [
    "import pandas as pd\n",
    "import numpy as np\n",
    "from bs4 import BeautifulSoup\n",
    "import requests\n",
    "import re\n",
    "import typing\n",
    "import time"
   ]
  },
  {
   "cell_type": "code",
   "execution_count": 2,
   "metadata": {},
   "outputs": [],
   "source": [
    "url = f'https://www.peco-online.ro/index.php'"
   ]
  },
  {
   "cell_type": "code",
   "execution_count": 3,
   "metadata": {},
   "outputs": [],
   "source": [
    "def doGet(url: str) -> BeautifulSoup:\n",
    "    return BeautifulSoup(requests.get(url).content, 'html.parser')"
   ]
  },
  {
   "cell_type": "code",
   "execution_count": 4,
   "metadata": {},
   "outputs": [],
   "source": [
    "def doPost(url: str, form_data: dict) -> BeautifulSoup:\n",
    "    return BeautifulSoup(requests.post(url, form_data).content, 'html.parser')"
   ]
  },
  {
   "cell_type": "code",
   "execution_count": 5,
   "metadata": {},
   "outputs": [],
   "source": [
    "page = doGet(url)"
   ]
  },
  {
   "cell_type": "code",
   "execution_count": 6,
   "metadata": {},
   "outputs": [],
   "source": [
    "# get all gas vendors\n",
    "vendors = [option.get('value').strip() for option in page.find('select', id='Retea').find_all('option')]"
   ]
  },
  {
   "cell_type": "code",
   "execution_count": 7,
   "metadata": {},
   "outputs": [],
   "source": [
    "# get all gas types\n",
    "types = [option.get('value').strip() for option in page.find('select', id='carburant').find_all('option')]"
   ]
  },
  {
   "cell_type": "code",
   "execution_count": 6,
   "metadata": {},
   "outputs": [],
   "source": [
    "counties_df = pd.read_json('../data/counties.json', orient='records')"
   ]
  },
  {
   "cell_type": "code",
   "execution_count": 18,
   "metadata": {},
   "outputs": [],
   "source": [
    "def createFormData(vendors: list, types: list, counties: list) -> list:\n",
    "    form_datas = []\n",
    "\n",
    "    for county in counties:\n",
    "        for type in types:\n",
    "            form_datas.append({\n",
    "                'carburant': type,\n",
    "                'locatie': 'Judet',\n",
    "                'nume_locatie': county,\n",
    "                'retea[]': vendors\n",
    "            })\n",
    "\n",
    "    return form_datas"
   ]
  },
  {
   "cell_type": "code",
   "execution_count": 26,
   "metadata": {},
   "outputs": [],
   "source": [
    "form_datas = createFormData(vendors, types, counties_df['County'].to_list())\n",
    "data = []\n",
    "\n",
    "for form_data in form_datas:\n",
    "    data.append({'type': form_data['carburant'], 'county': form_data['nume_locatie'], 'data': doPost(url, form_data)})\n",
    "    time.sleep(0.15)"
   ]
  },
  {
   "cell_type": "code",
   "execution_count": 40,
   "metadata": {},
   "outputs": [],
   "source": [
    "scraped_data = []\n",
    "\n",
    "for county_findings in data:\n",
    "    dom = county_findings['data']\n",
    "    try:\n",
    "        findings = dom.find('table', id='tabelaRezultate').find_all('tr')[1:]\n",
    "        for finding in findings:\n",
    "            cells = finding.find_all('td')\n",
    "\n",
    "            price = cells[0].find('span', class_='pret').text.strip()\n",
    "            vendor = cells[1].find('img').get('title').strip()\n",
    "            city = cells[1].find('span', class_='small d-block text-muted').text.strip()\n",
    "            addr = cells[1].find('span', class_='').text.strip() # will be kept only for uniqueness of data\n",
    "\n",
    "            scraped_data.append({'Type': county_findings['type'], 'County': county_findings['county'], 'City': city, 'Addr': addr, 'Vendor': vendor, 'Price': price})\n",
    "    except:\n",
    "        print('Error at ' + county_findings['county'] + ' with type ' + county_findings['type'] + '. Info: \\n' + str(dom))"
   ]
  },
  {
   "cell_type": "code",
   "execution_count": 42,
   "metadata": {},
   "outputs": [],
   "source": [
    "scraped_df = pd.DataFrame(scraped_data)"
   ]
  },
  {
   "cell_type": "code",
   "execution_count": 43,
   "metadata": {},
   "outputs": [],
   "source": [
    "# delete all falsy values\n",
    "scraped_df['Price'].replace('- -', np.nan, inplace=True)\n",
    "scraped_df['Price'] = pd.to_numeric(scraped_df['Price'])\n",
    "# better type definition\n",
    "scraped_df['Type'] = [value.replace('_', ' ') for value in scraped_df['Type']]\n",
    "# delete county names from city names\n",
    "scraped_df['City'] = [re.sub(',[^,]*$', '', value) for value in scraped_df['City']]\n",
    "# add timestamp to scrape\n",
    "scraped_df['Timestamp'] = pd.to_datetime('now')"
   ]
  },
  {
   "cell_type": "code",
   "execution_count": 35,
   "metadata": {},
   "outputs": [],
   "source": [
    "type_ro_hun_assoc = {\n",
    "    'Benzina Regular': '95-ös Benzin',\n",
    "    'GPL': 'LPG',\n",
    "    'Benzina Premium': 'Prémium Benzin',\n",
    "    'Motorina Regular': 'Gázolaj',\n",
    "    'Motorina Premium': 'Prémium Gázolaj',\n",
    "    'AdBlue': 'AdBlue'\n",
    "}\n",
    "\n",
    "def type_translation_to_hun(type: str):\n",
    "    return type_ro_hun_assoc[type]"
   ]
  },
  {
   "cell_type": "code",
   "execution_count": 36,
   "metadata": {},
   "outputs": [],
   "source": [
    "scraped_df['Type'] = [type_translation_to_hun(value) for value in scraped_df['Type']]"
   ]
  },
  {
   "cell_type": "code",
   "execution_count": null,
   "metadata": {},
   "outputs": [],
   "source": [
    "scraped_df = scraped_df.merge(counties_df[['County', 'ISO Code']], how='left', left_on='County', right_on='County')\n",
    "scraped_df.rename(columns={'ISO Code': 'ISO'}, inplace=True)"
   ]
  },
  {
   "cell_type": "code",
   "execution_count": 38,
   "metadata": {},
   "outputs": [],
   "source": [
    "path = '../data/gas_tmp-' + str(pd.to_datetime('now').date().day) + '.json'\n",
    "scraped_df.to_json(path, orient='records')"
   ]
  }
 ],
 "metadata": {
  "interpreter": {
   "hash": "d41e7f9cec6053ad9d66317e7c2a8e67a44fb9eda798af17b5d260bed16822d1"
  },
  "kernelspec": {
   "display_name": "Python 3.10.1 64-bit",
   "language": "python",
   "name": "python3"
  },
  "language_info": {
   "codemirror_mode": {
    "name": "ipython",
    "version": 3
   },
   "file_extension": ".py",
   "mimetype": "text/x-python",
   "name": "python",
   "nbconvert_exporter": "python",
   "pygments_lexer": "ipython3",
   "version": "3.10.1"
  },
  "orig_nbformat": 4
 },
 "nbformat": 4,
 "nbformat_minor": 2
}
