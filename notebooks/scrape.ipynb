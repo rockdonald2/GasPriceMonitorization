{
 "cells": [
  {
   "cell_type": "code",
   "execution_count": null,
   "metadata": {},
   "outputs": [],
   "source": [
    "!pip install pandas\n",
    "!pip install beautifulsoup4"
   ]
  },
  {
   "cell_type": "code",
   "execution_count": 69,
   "metadata": {},
   "outputs": [],
   "source": [
    "import pandas as pd\n",
    "import numpy as np\n",
    "from bs4 import BeautifulSoup\n",
    "import requests\n",
    "import re\n",
    "import typing"
   ]
  },
  {
   "cell_type": "code",
   "execution_count": 70,
   "metadata": {},
   "outputs": [],
   "source": [
    "url = f'https://www.peco-online.ro/index.php'"
   ]
  },
  {
   "cell_type": "code",
   "execution_count": 71,
   "metadata": {},
   "outputs": [],
   "source": [
    "def doGet(url: str) -> BeautifulSoup:\n",
    "    return BeautifulSoup(requests.get(url).content, 'html.parser')"
   ]
  },
  {
   "cell_type": "code",
   "execution_count": 72,
   "metadata": {},
   "outputs": [],
   "source": [
    "def doPost(url: str, form_data: dict) -> BeautifulSoup:\n",
    "    return BeautifulSoup(requests.post(url, form_data).content, 'html.parser')"
   ]
  },
  {
   "cell_type": "code",
   "execution_count": 73,
   "metadata": {},
   "outputs": [],
   "source": [
    "page = doGet(url)"
   ]
  },
  {
   "cell_type": "code",
   "execution_count": 74,
   "metadata": {},
   "outputs": [],
   "source": [
    "# get all gas vendors\n",
    "vendors = [option.get('value').strip() for option in page.find('select', id='Retea').find_all('option')]"
   ]
  },
  {
   "cell_type": "code",
   "execution_count": 75,
   "metadata": {},
   "outputs": [],
   "source": [
    "# get all gas types\n",
    "types = [option.get('value').strip() for option in page.find('select', id='carburant').find_all('option')]"
   ]
  },
  {
   "cell_type": "code",
   "execution_count": 55,
   "metadata": {},
   "outputs": [],
   "source": [
    "# get all counties of Romania\n",
    "counties_page = doGet('https://en.wikipedia.org/wiki/Counties_of_Romania')\n",
    "counties_table_rows = counties_page.select_one('#mw-content-text > div.mw-parser-output > table.wikitable').find('tbody').find_all('tr')[1:]\n",
    "counties_data = [(elem.text.strip() for elem in row.select('th, td')[:-2]) for row in counties_table_rows]\n",
    "counties_df = pd.DataFrame(counties_data)\n",
    "counties_df.rename(columns={0: 'County', 1: 'County Seat', 3: 'Development Region', 4: 'ISO Code', 7: 'NUTS Code', 8: 'Population'}, inplace=True)\n",
    "counties_df['County Seat'] = [re.sub('\\[.*\\]', '', value) for value in counties_df['County Seat']]\n",
    "counties_df.drop(columns=[2, 5, 6], inplace=True)\n",
    "# easier\n",
    "counties_df.loc[9]['County Seat'] = 'Bucharest'\n",
    "counties_df['Population'] = [value.replace(',','') for value in counties_df['Population']]\n",
    "counties_df['Population'] = pd.to_numeric(counties_df['Population'])"
   ]
  },
  {
   "cell_type": "code",
   "execution_count": 156,
   "metadata": {},
   "outputs": [],
   "source": [
    "counties_df.to_json('../data/counties.json', orient='records')"
   ]
  },
  {
   "cell_type": "code",
   "execution_count": 10,
   "metadata": {},
   "outputs": [],
   "source": [
    "counties_df = pd.read_json('../data/counties.json', orient='records')"
   ]
  },
  {
   "cell_type": "code",
   "execution_count": 76,
   "metadata": {},
   "outputs": [],
   "source": [
    "def createFormData(vendors: list, types: list, counties: list) -> list:\n",
    "    form_datas = []\n",
    "\n",
    "    for county in counties:\n",
    "        for type in types:\n",
    "            form_datas.append({\n",
    "                'carburant': type,\n",
    "                'locatie': 'Judet',\n",
    "                'nume_locatie': county,\n",
    "                'retea[]': vendors\n",
    "            })\n",
    "\n",
    "    return form_datas"
   ]
  },
  {
   "cell_type": "code",
   "execution_count": 77,
   "metadata": {},
   "outputs": [],
   "source": [
    "form_datas = createFormData(vendors, types, counties_df['County'].to_list())\n",
    "data = [{'type': form_data['carburant'], 'county': form_data['nume_locatie'], 'data': doPost(url, form_data)} for form_data in form_datas]"
   ]
  },
  {
   "cell_type": "code",
   "execution_count": 78,
   "metadata": {},
   "outputs": [],
   "source": [
    "scraped_data = []\n",
    "\n",
    "for county_findings in data:\n",
    "    dom = county_findings['data']\n",
    "    findings = dom.find('table', id='tabelaRezultate').find_all('tr')[1:]\n",
    "\n",
    "    for finding in findings:\n",
    "        cells = finding.find_all('td')\n",
    "\n",
    "        price = cells[0].find('span', class_='pret').text.strip()\n",
    "        vendor = cells[1].find('img').get('title').strip()\n",
    "        city = cells[1].find('span', class_='small d-block text-muted').text.strip()\n",
    "\n",
    "        scraped_data.append({'Type': county_findings['type'], 'County': county_findings['county'], 'City': city, 'Vendor': vendor, 'Price': price})"
   ]
  },
  {
   "cell_type": "code",
   "execution_count": 79,
   "metadata": {},
   "outputs": [],
   "source": [
    "scraped_df = pd.DataFrame(scraped_data)"
   ]
  },
  {
   "cell_type": "code",
   "execution_count": 81,
   "metadata": {},
   "outputs": [],
   "source": [
    "# delete all falsy values\n",
    "scraped_df['Price'].replace('- -', np.nan, inplace=True)\n",
    "scraped_df['Price'] = pd.to_numeric(scraped_df['Price'])"
   ]
  },
  {
   "cell_type": "code",
   "execution_count": 82,
   "metadata": {},
   "outputs": [],
   "source": [
    "# better type definition\n",
    "scraped_df['Type'] = [value.replace('_', ' ') for value in scraped_df['Type']]"
   ]
  },
  {
   "cell_type": "code",
   "execution_count": 83,
   "metadata": {},
   "outputs": [],
   "source": [
    "# delete county names from city names\n",
    "scraped_df['City'] = [re.sub(',.*$', '', value) for value in scraped_df['City']]"
   ]
  },
  {
   "cell_type": "code",
   "execution_count": 84,
   "metadata": {},
   "outputs": [],
   "source": [
    "# add timestamp to scrape\n",
    "scraped_df['Timestamp'] = pd.to_datetime('now')"
   ]
  },
  {
   "cell_type": "code",
   "execution_count": 61,
   "metadata": {},
   "outputs": [
    {
     "data": {
      "text/plain": [
       "array(['Benzina Regular', 'Motorina Regular', 'GPL', 'Benzina Premium',\n",
       "       'Motorina Premium', 'AdBlue'], dtype=object)"
      ]
     },
     "execution_count": 61,
     "metadata": {},
     "output_type": "execute_result"
    }
   ],
   "source": [
    "# all gas types\n",
    "scraped_df['Type'].unique()"
   ]
  },
  {
   "cell_type": "code",
   "execution_count": 86,
   "metadata": {},
   "outputs": [],
   "source": [
    "type_ro_hun_assoc = {\n",
    "    'Benzina Regular': '95-ös Benzin',\n",
    "    'GPL': 'LPG',\n",
    "    'Benzina Premium': 'Prémium Benzin',\n",
    "    'Motorina Regular': 'Gázolaj',\n",
    "    'Motorina Premium': 'Prémium Gázolaj',\n",
    "    'AdBlue': 'AdBlue'\n",
    "}\n",
    "\n",
    "def type_translation_to_hun(type: str):\n",
    "    return type_ro_hun_assoc[type]"
   ]
  },
  {
   "cell_type": "code",
   "execution_count": 87,
   "metadata": {},
   "outputs": [],
   "source": [
    "scraped_df['Type'] = [type_translation_to_hun(value) for value in scraped_df['Type']]"
   ]
  },
  {
   "cell_type": "code",
   "execution_count": 104,
   "metadata": {},
   "outputs": [],
   "source": [
    "path = '../data/gas_tmp-' + str(pd.to_datetime('now').date().day) + '.json'\n",
    "scraped_df.to_json(path, orient='records')"
   ]
  }
 ],
 "metadata": {
  "interpreter": {
   "hash": "d41e7f9cec6053ad9d66317e7c2a8e67a44fb9eda798af17b5d260bed16822d1"
  },
  "kernelspec": {
   "display_name": "Python 3.10.1 64-bit",
   "language": "python",
   "name": "python3"
  },
  "language_info": {
   "codemirror_mode": {
    "name": "ipython",
    "version": 3
   },
   "file_extension": ".py",
   "mimetype": "text/x-python",
   "name": "python",
   "nbconvert_exporter": "python",
   "pygments_lexer": "ipython3",
   "version": "3.10.1"
  },
  "orig_nbformat": 4
 },
 "nbformat": 4,
 "nbformat_minor": 2
}
