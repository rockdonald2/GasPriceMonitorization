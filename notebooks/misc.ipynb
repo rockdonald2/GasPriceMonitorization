{
 "cells": [
  {
   "cell_type": "code",
   "execution_count": 1,
   "metadata": {},
   "outputs": [],
   "source": [
    "import pandas as pd\n",
    "import numpy as np\n",
    "from bs4 import BeautifulSoup\n",
    "import requests\n",
    "import re\n",
    "import typing\n",
    "import time\n",
    "from dotenv import load_dotenv\n",
    "from influxdb import DataFrameClient\n",
    "import os"
   ]
  },
  {
   "cell_type": "code",
   "execution_count": 2,
   "metadata": {},
   "outputs": [
    {
     "data": {
      "text/plain": [
       "True"
      ]
     },
     "execution_count": 2,
     "metadata": {},
     "output_type": "execute_result"
    }
   ],
   "source": [
    "load_dotenv()"
   ]
  },
  {
   "cell_type": "code",
   "execution_count": null,
   "metadata": {},
   "outputs": [],
   "source": [
    "def doGet(url: str) -> BeautifulSoup:\n",
    "    return BeautifulSoup(requests.get(url).content, 'html.parser')"
   ]
  },
  {
   "cell_type": "code",
   "execution_count": null,
   "metadata": {},
   "outputs": [],
   "source": [
    "# get all counties of Romania\n",
    "counties_page = doGet('https://en.wikipedia.org/wiki/Counties_of_Romania')\n",
    "counties_table_rows = counties_page.select_one('#mw-content-text > div.mw-parser-output > table.wikitable').find('tbody').find_all('tr')[1:]\n",
    "counties_data = [(elem.text.strip() for elem in row.select('th, td')[:-2]) for row in counties_table_rows]\n",
    "counties_df = pd.DataFrame(counties_data)\n",
    "counties_df.rename(columns={0: 'County', 1: 'County Seat', 3: 'Development Region', 4: 'ISO Code', 7: 'NUTS Code', 8: 'Population'}, inplace=True)\n",
    "counties_df['County Seat'] = [re.sub('\\[.*\\]', '', value) for value in counties_df['County Seat']]\n",
    "counties_df.drop(columns=[2, 5, 6], inplace=True)\n",
    "# easier\n",
    "counties_df.loc[9]['County Seat'] = 'Bucharest'\n",
    "counties_df['Population'] = [value.replace(',','') for value in counties_df['Population']]\n",
    "counties_df['Population'] = pd.to_numeric(counties_df['Population'])\n",
    "counties_df['County'].loc[9] = 'București'"
   ]
  },
  {
   "cell_type": "code",
   "execution_count": null,
   "metadata": {},
   "outputs": [],
   "source": [
    "counties_df.to_json('../data/counties.json', orient='records')"
   ]
  },
  {
   "cell_type": "code",
   "execution_count": 45,
   "metadata": {},
   "outputs": [],
   "source": [
    "g16 = pd.read_json('../data/gas_tmp-16.json', orient='records')\n",
    "g17 = pd.read_json('../data/gas_tmp-17.json', orient='records')\n",
    "g18 = pd.read_json('../data/gas_tmp-18.json', orient='records')\n",
    "counties = pd.read_json('../data/counties.json', orient='records')"
   ]
  },
  {
   "cell_type": "code",
   "execution_count": 3,
   "metadata": {},
   "outputs": [],
   "source": [
    "counties = pd.read_json('../data/counties.json', orient='records')\n",
    "g19 = pd.read_json('../data/gas_tmp-19.json', orient='records')"
   ]
  },
  {
   "cell_type": "code",
   "execution_count": 4,
   "metadata": {},
   "outputs": [],
   "source": [
    "counties['ISO Code'] = [f'RO-{value}' for value in counties['ISO Code']]"
   ]
  },
  {
   "cell_type": "code",
   "execution_count": 48,
   "metadata": {},
   "outputs": [],
   "source": [
    "counties.to_json('../data/counties.json', orient='records')"
   ]
  },
  {
   "cell_type": "code",
   "execution_count": 17,
   "metadata": {},
   "outputs": [],
   "source": [
    "g16 = g16.merge(counties[['County', 'ISO Code']], how='left', left_on='County', right_on='County')\n",
    "g17 = g17.merge(counties[['County', 'ISO Code']], how='left', left_on='County', right_on='County')\n",
    "g18 = g18.merge(counties[['County', 'ISO Code']], how='left', left_on='County', right_on='County')"
   ]
  },
  {
   "cell_type": "code",
   "execution_count": 4,
   "metadata": {},
   "outputs": [],
   "source": [
    "g19 = g19.merge(counties[['County', 'ISO Code']], how='left', left_on='County', right_on='County')"
   ]
  },
  {
   "cell_type": "code",
   "execution_count": 32,
   "metadata": {},
   "outputs": [],
   "source": [
    "g16.rename(columns={'ISO Code': 'ISO'}, inplace=True)\n",
    "g17.rename(columns={'ISO Code': 'ISO'}, inplace=True)\n",
    "g18.rename(columns={'ISO Code': 'ISO'}, inplace=True)"
   ]
  },
  {
   "cell_type": "code",
   "execution_count": 33,
   "metadata": {},
   "outputs": [],
   "source": [
    "g16.to_json('../data/gas_tmp-16.json', orient='records')\n",
    "g17.to_json('../data/gas_tmp-17.json', orient='records')\n",
    "g18.to_json('../data/gas_tmp-18.json', orient='records')"
   ]
  },
  {
   "cell_type": "code",
   "execution_count": 7,
   "metadata": {},
   "outputs": [],
   "source": [
    "g19.rename(columns={'ISO Code': 'ISO'}, inplace=True)"
   ]
  },
  {
   "cell_type": "code",
   "execution_count": 8,
   "metadata": {},
   "outputs": [],
   "source": [
    "g19.to_json('../data/gas_tmp-19.json', orient='records')"
   ]
  }
 ],
 "metadata": {
  "interpreter": {
   "hash": "d41e7f9cec6053ad9d66317e7c2a8e67a44fb9eda798af17b5d260bed16822d1"
  },
  "kernelspec": {
   "display_name": "Python 3.10.1 64-bit",
   "language": "python",
   "name": "python3"
  },
  "language_info": {
   "codemirror_mode": {
    "name": "ipython",
    "version": 3
   },
   "file_extension": ".py",
   "mimetype": "text/x-python",
   "name": "python",
   "nbconvert_exporter": "python",
   "pygments_lexer": "ipython3",
   "version": "3.10.1"
  },
  "orig_nbformat": 4
 },
 "nbformat": 4,
 "nbformat_minor": 2
}
