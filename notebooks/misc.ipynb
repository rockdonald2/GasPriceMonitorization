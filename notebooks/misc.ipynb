{
 "cells": [
  {
   "cell_type": "code",
   "execution_count": null,
   "metadata": {},
   "outputs": [],
   "source": [
    "import pandas as pd\n",
    "import numpy as np\n",
    "from bs4 import BeautifulSoup\n",
    "import requests\n",
    "import re\n",
    "import typing\n",
    "import time"
   ]
  },
  {
   "cell_type": "code",
   "execution_count": null,
   "metadata": {},
   "outputs": [],
   "source": [
    "def doGet(url: str) -> BeautifulSoup:\n",
    "    return BeautifulSoup(requests.get(url).content, 'html.parser')"
   ]
  },
  {
   "cell_type": "code",
   "execution_count": null,
   "metadata": {},
   "outputs": [],
   "source": [
    "# get all counties of Romania\n",
    "counties_page = doGet('https://en.wikipedia.org/wiki/Counties_of_Romania')\n",
    "counties_table_rows = counties_page.select_one('#mw-content-text > div.mw-parser-output > table.wikitable').find('tbody').find_all('tr')[1:]\n",
    "counties_data = [(elem.text.strip() for elem in row.select('th, td')[:-2]) for row in counties_table_rows]\n",
    "counties_df = pd.DataFrame(counties_data)\n",
    "counties_df.rename(columns={0: 'County', 1: 'County Seat', 3: 'Development Region', 4: 'ISO Code', 7: 'NUTS Code', 8: 'Population'}, inplace=True)\n",
    "counties_df['County Seat'] = [re.sub('\\[.*\\]', '', value) for value in counties_df['County Seat']]\n",
    "counties_df.drop(columns=[2, 5, 6], inplace=True)\n",
    "# easier\n",
    "counties_df.loc[9]['County Seat'] = 'Bucharest'\n",
    "counties_df['Population'] = [value.replace(',','') for value in counties_df['Population']]\n",
    "counties_df['Population'] = pd.to_numeric(counties_df['Population'])"
   ]
  },
  {
   "cell_type": "code",
   "execution_count": null,
   "metadata": {},
   "outputs": [],
   "source": [
    "counties_df.to_json('../data/counties.json', orient='records')"
   ]
  }
 ],
 "metadata": {
  "language_info": {
   "name": "python"
  },
  "orig_nbformat": 4
 },
 "nbformat": 4,
 "nbformat_minor": 2
}
