{
 "cells": [
  {
   "cell_type": "code",
   "execution_count": null,
   "metadata": {},
   "outputs": [],
   "source": [
    "!pip install influxdb\n",
    "!pip install python-dotenv\n",
    "!pip install pandas"
   ]
  },
  {
   "cell_type": "code",
   "execution_count": 1,
   "metadata": {},
   "outputs": [],
   "source": [
    "import pandas as pd\n",
    "import numpy as np\n",
    "from influxdb import DataFrameClient\n",
    "from dotenv import load_dotenv\n",
    "import os\n",
    "from datetime import datetime, timedelta"
   ]
  },
  {
   "cell_type": "code",
   "execution_count": 2,
   "metadata": {},
   "outputs": [
    {
     "data": {
      "text/plain": [
       "True"
      ]
     },
     "execution_count": 2,
     "metadata": {},
     "output_type": "execute_result"
    }
   ],
   "source": [
    "load_dotenv()"
   ]
  },
  {
   "cell_type": "code",
   "execution_count": 3,
   "metadata": {},
   "outputs": [],
   "source": [
    "user = os.getenv('DB_USER')\n",
    "password = os.getenv('DB_PWD')\n",
    "host = os.getenv('DB_ADDR')\n",
    "port = os.getenv('DB_PORT')\n",
    "dbname = 'GasPriceMonitorization'\n",
    "protocol = 'line'\n",
    "client = DataFrameClient(host, port, user, password, dbname)\n",
    "measurement = 'CrudeOil'"
   ]
  },
  {
   "cell_type": "code",
   "execution_count": 19,
   "metadata": {},
   "outputs": [],
   "source": [
    "yesterday_day = (datetime.now() - timedelta(days=1)).strftime('%d')\n",
    "\n",
    "path = 'crude_tmp-' + yesterday_day + '.json'\n",
    "try:\n",
    "    scraped = pd.read_json(path, orient='records')\n",
    "    was_data = True\n",
    "except:\n",
    "    was_data = False"
   ]
  },
  {
   "cell_type": "code",
   "execution_count": 20,
   "metadata": {},
   "outputs": [],
   "source": [
    "if was_data:\n",
    "    scraped.set_index('Date', inplace=True)"
   ]
  },
  {
   "cell_type": "code",
   "execution_count": 21,
   "metadata": {},
   "outputs": [],
   "source": [
    "if was_data:\n",
    "    scraped.dropna(inplace=True)"
   ]
  },
  {
   "cell_type": "code",
   "execution_count": 22,
   "metadata": {},
   "outputs": [],
   "source": [
    "if was_data:\n",
    "    columns = scraped.columns\n",
    "\n",
    "    client.write_points(scraped, measurement, protocol=protocol, field_columns=columns)"
   ]
  }
 ],
 "metadata": {
  "interpreter": {
   "hash": "807b039ade878d60dae92a6455432a8a6130126974a7d3f681de0cc421a12c11"
  },
  "kernelspec": {
   "display_name": "Python 3.10.1 64-bit",
   "language": "python",
   "name": "python3"
  },
  "language_info": {
   "codemirror_mode": {
    "name": "ipython",
    "version": 3
   },
   "file_extension": ".py",
   "mimetype": "text/x-python",
   "name": "python",
   "nbconvert_exporter": "python",
   "pygments_lexer": "ipython3",
   "version": "3.10.1"
  },
  "orig_nbformat": 4
 },
 "nbformat": 4,
 "nbformat_minor": 2
}
