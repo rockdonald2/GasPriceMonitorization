{
 "cells": [
  {
   "cell_type": "code",
   "execution_count": 1,
   "metadata": {},
   "outputs": [],
   "source": [
    "import pandas as pd\n",
    "import numpy as np\n",
    "from influxdb import DataFrameClient\n",
    "from dotenv import load_dotenv\n",
    "import os\n",
    "from fnmatch import fnmatch"
   ]
  },
  {
   "cell_type": "code",
   "execution_count": 2,
   "metadata": {},
   "outputs": [
    {
     "data": {
      "text/plain": [
       "True"
      ]
     },
     "execution_count": 2,
     "metadata": {},
     "output_type": "execute_result"
    }
   ],
   "source": [
    "load_dotenv()"
   ]
  },
  {
   "cell_type": "code",
   "execution_count": 3,
   "metadata": {},
   "outputs": [],
   "source": [
    "user = os.getenv('DB_USER')\n",
    "password = os.getenv('DB_PWD')\n",
    "host = os.getenv('DB_ADDR')\n",
    "port = os.getenv('DB_PORT')\n",
    "dbname = 'GasPriceMonitorization'\n",
    "protocol = 'line'\n",
    "client = DataFrameClient(host, port, user, password, dbname)"
   ]
  },
  {
   "cell_type": "code",
   "execution_count": 4,
   "metadata": {},
   "outputs": [],
   "source": [
    "measurement_gas = 'GasPrice'\n",
    "measurement_crude = 'CrudeOil'"
   ]
  },
  {
   "cell_type": "code",
   "execution_count": 5,
   "metadata": {},
   "outputs": [],
   "source": [
    "def get_all_files_matching_pattern(root: str, pattern: str) -> list[str]:\n",
    "    paths = []\n",
    "\n",
    "    for path, subdirs, files in os.walk(root):\n",
    "        for name in files:\n",
    "            if fnmatch(name, pattern):\n",
    "                paths.append(os.path.join(path, name))\n",
    "    \n",
    "    return paths"
   ]
  },
  {
   "cell_type": "code",
   "execution_count": null,
   "metadata": {},
   "outputs": [],
   "source": [
    "def upload_all_gas():\n",
    "    root = 'archived_data'\n",
    "    pattern = \"gas_tmp-*.json\"\n",
    "\n",
    "    paths = get_all_files_matching_pattern(root, pattern)\n",
    "\n",
    "    for path in paths:\n",
    "        data = pd.read_json(path, orient='records')\n",
    "        data.set_index('Timestamp', inplace=True)\n",
    "        data.dropna(inplace=True)\n",
    "\n",
    "        columns = data.columns\n",
    "        columns = columns.drop(['Price'])\n",
    "\n",
    "        client.write_points(data, measurement_gas, protocol=protocol, field_columns=['Price'], tag_columns=columns)"
   ]
  },
  {
   "cell_type": "code",
   "execution_count": null,
   "metadata": {},
   "outputs": [],
   "source": [
    "def upload_all_crude():\n",
    "    root = 'archived_data'\n",
    "    pattern = \"crude_tmp-*.json\"\n",
    "\n",
    "    paths = get_all_files_matching_pattern(root, pattern)\n",
    "\n",
    "    for path in paths:\n",
    "        data = pd.read_json(path, orient='records')\n",
    "        data.set_index('Date', inplace=True)\n",
    "        data.dropna(inplace=True)\n",
    "\n",
    "        columns = data.columns\n",
    "\n",
    "        client.write_points(data, measurement_crude, protocol=protocol, field_columns=columns)"
   ]
  },
  {
   "cell_type": "code",
   "execution_count": null,
   "metadata": {},
   "outputs": [],
   "source": [
    "upload_all_gas()\n",
    "upload_all_crude()"
   ]
  }
 ],
 "metadata": {
  "interpreter": {
   "hash": "807b039ade878d60dae92a6455432a8a6130126974a7d3f681de0cc421a12c11"
  },
  "kernelspec": {
   "display_name": "Python 3.10.1 64-bit",
   "language": "python",
   "name": "python3"
  },
  "language_info": {
   "codemirror_mode": {
    "name": "ipython",
    "version": 3
   },
   "file_extension": ".py",
   "mimetype": "text/x-python",
   "name": "python",
   "nbconvert_exporter": "python",
   "pygments_lexer": "ipython3",
   "version": "3.10.1"
  },
  "orig_nbformat": 4
 },
 "nbformat": 4,
 "nbformat_minor": 2
}
